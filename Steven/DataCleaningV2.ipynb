{
 "cells": [
  {
   "cell_type": "code",
   "execution_count": 2,
   "metadata": {},
   "outputs": [],
   "source": [
    "import numpy as np\n",
    "import pandas as pd\n",
    "import seaborn as sns\n",
    "import re\n",
    "%matplotlib inline \n",
    "import matplotlib.pyplot as plt"
   ]
  },
  {
   "cell_type": "code",
   "execution_count": 100,
   "metadata": {},
   "outputs": [
    {
     "name": "stderr",
     "output_type": "stream",
     "text": [
      "C:\\Anaconda\\lib\\site-packages\\IPython\\core\\interactiveshell.py:3145: DtypeWarning: Columns (36,40,81,87) have mixed types.Specify dtype option on import or set low_memory=False.\n",
      "  has_raised = await self.run_ast_nodes(code_ast.body, cell_name,\n"
     ]
    }
   ],
   "source": [
    "housing = pd.read_csv('Ames_HousePrice.csv', index_col=0)\n",
    "real_est = pd.read_csv('Ames Real Estate Data.csv')\n",
    "\n",
    "housingdf = housing.copy()"
   ]
  },
  {
   "cell_type": "markdown",
   "metadata": {},
   "source": [
    "## Cleaning X_train"
   ]
  },
  {
   "cell_type": "markdown",
   "metadata": {},
   "source": [
    "## Seperating Quantative and Qualitative data\n",
    "\n",
    "strings are object datatype so we filter columns by this"
   ]
  },
  {
   "cell_type": "code",
   "execution_count": 101,
   "metadata": {},
   "outputs": [],
   "source": [
    "quant = [col for col in housingdf.columns if housingdf.dtypes[col] != 'object']\n",
    "qual = [col for col in housingdf.columns if housingdf.dtypes[col] == 'object']"
   ]
  },
  {
   "cell_type": "markdown",
   "metadata": {},
   "source": [
    "## Imputing Missing Data (_Quantitative_)\n",
    "\n",
    "fill missing data with 0s"
   ]
  },
  {
   "cell_type": "code",
   "execution_count": 102,
   "metadata": {},
   "outputs": [
    {
     "data": {
      "text/plain": [
       "LotFrontage     17.91\n",
       "GarageYrBlt      5.00\n",
       "MasVnrArea       0.54\n",
       "BsmtFullBath     0.08\n",
       "BsmtHalfBath     0.08\n",
       "BsmtFinSF1       0.04\n",
       "BsmtFinSF2       0.04\n",
       "BsmtUnfSF        0.04\n",
       "dtype: float64"
      ]
     },
     "execution_count": 102,
     "metadata": {},
     "output_type": "execute_result"
    }
   ],
   "source": [
    "housingdf[quant].isna().mean().nlargest(8).round(4) * 100"
   ]
  },
  {
   "cell_type": "code",
   "execution_count": 103,
   "metadata": {},
   "outputs": [],
   "source": [
    "housingdf[quant] = housingdf.loc[:, quant].fillna(value=0)"
   ]
  },
  {
   "cell_type": "code",
   "execution_count": 104,
   "metadata": {},
   "outputs": [
    {
     "data": {
      "text/plain": [
       "PID            0.0\n",
       "GrLivArea      0.0\n",
       "SalePrice      0.0\n",
       "MSSubClass     0.0\n",
       "LotFrontage    0.0\n",
       "LotArea        0.0\n",
       "OverallQual    0.0\n",
       "OverallCond    0.0\n",
       "dtype: float64"
      ]
     },
     "execution_count": 104,
     "metadata": {},
     "output_type": "execute_result"
    }
   ],
   "source": [
    "housingdf[quant].isna().mean().nlargest(8).round(4) * 100"
   ]
  },
  {
   "cell_type": "markdown",
   "metadata": {},
   "source": [
    "## Imputing Missing Data (_Qualitative_)\n",
    "\n",
    "dealing with missing data and dummifying"
   ]
  },
  {
   "cell_type": "code",
   "execution_count": 105,
   "metadata": {},
   "outputs": [
    {
     "data": {
      "text/plain": [
       "PoolQC          99.65\n",
       "MiscFeature     96.24\n",
       "Alley           93.49\n",
       "Fence           79.65\n",
       "FireplaceQu     48.10\n",
       "GarageFinish     5.00\n",
       "GarageQual       5.00\n",
       "GarageCond       5.00\n",
       "dtype: float64"
      ]
     },
     "execution_count": 105,
     "metadata": {},
     "output_type": "execute_result"
    }
   ],
   "source": [
    "housingdf[qual].isna().mean().nlargest(8).round(4) * 100"
   ]
  },
  {
   "cell_type": "markdown",
   "metadata": {},
   "source": [
    "dropping PoolQC, MiscFeature, Alley, Fence since missing lots of data"
   ]
  },
  {
   "cell_type": "code",
   "execution_count": 106,
   "metadata": {},
   "outputs": [],
   "source": [
    "housingdf.drop(['PoolQC','MiscFeature','Alley','Fence'],axis=1,inplace=True)"
   ]
  },
  {
   "cell_type": "markdown",
   "metadata": {},
   "source": [
    "removing removed features from qual list"
   ]
  },
  {
   "cell_type": "code",
   "execution_count": 107,
   "metadata": {},
   "outputs": [],
   "source": [
    "ew = ['PoolQC','MiscFeature','Alley','Fence']\n",
    "qual = [q for q in qual if q not in ew]"
   ]
  },
  {
   "cell_type": "markdown",
   "metadata": {},
   "source": [
    "adding missing category for any nan values in qual columns"
   ]
  },
  {
   "cell_type": "code",
   "execution_count": 108,
   "metadata": {},
   "outputs": [],
   "source": [
    "for col in qual:\n",
    "    housingdf[col] = housingdf[col].astype('category')\n",
    "    if housingdf[col].isnull().any:\n",
    "        housingdf[col] = housingdf[col].cat.add_categories(['MISSING'])\n",
    "        housingdf[col] = housingdf[col].fillna('MISSING')"
   ]
  },
  {
   "cell_type": "code",
   "execution_count": 109,
   "metadata": {},
   "outputs": [
    {
     "data": {
      "text/plain": [
       "MSZoning        0.0\n",
       "Street          0.0\n",
       "LotShape        0.0\n",
       "LandContour     0.0\n",
       "Utilities       0.0\n",
       "LotConfig       0.0\n",
       "LandSlope       0.0\n",
       "Neighborhood    0.0\n",
       "Condition1      0.0\n",
       "Condition2      0.0\n",
       "dtype: float64"
      ]
     },
     "execution_count": 109,
     "metadata": {},
     "output_type": "execute_result"
    }
   ],
   "source": [
    "housingdf[qual].isna().mean().nlargest(10)"
   ]
  },
  {
   "cell_type": "code",
   "execution_count": 110,
   "metadata": {},
   "outputs": [],
   "source": [
    "h_quant = housingdf.loc[:, quant]"
   ]
  },
  {
   "cell_type": "code",
   "execution_count": 111,
   "metadata": {},
   "outputs": [
    {
     "data": {
      "text/html": [
       "<div>\n",
       "<style scoped>\n",
       "    .dataframe tbody tr th:only-of-type {\n",
       "        vertical-align: middle;\n",
       "    }\n",
       "\n",
       "    .dataframe tbody tr th {\n",
       "        vertical-align: top;\n",
       "    }\n",
       "\n",
       "    .dataframe thead th {\n",
       "        text-align: right;\n",
       "    }\n",
       "</style>\n",
       "<table border=\"1\" class=\"dataframe\">\n",
       "  <thead>\n",
       "    <tr style=\"text-align: right;\">\n",
       "      <th></th>\n",
       "      <th>PID</th>\n",
       "      <th>GrLivArea</th>\n",
       "      <th>SalePrice</th>\n",
       "      <th>MSSubClass</th>\n",
       "      <th>LotFrontage</th>\n",
       "      <th>LotArea</th>\n",
       "      <th>OverallQual</th>\n",
       "      <th>OverallCond</th>\n",
       "      <th>YearBuilt</th>\n",
       "      <th>YearRemodAdd</th>\n",
       "      <th>...</th>\n",
       "      <th>GarageArea</th>\n",
       "      <th>WoodDeckSF</th>\n",
       "      <th>OpenPorchSF</th>\n",
       "      <th>EnclosedPorch</th>\n",
       "      <th>3SsnPorch</th>\n",
       "      <th>ScreenPorch</th>\n",
       "      <th>PoolArea</th>\n",
       "      <th>MiscVal</th>\n",
       "      <th>MoSold</th>\n",
       "      <th>YrSold</th>\n",
       "    </tr>\n",
       "  </thead>\n",
       "  <tbody>\n",
       "    <tr>\n",
       "      <th>1</th>\n",
       "      <td>909176150</td>\n",
       "      <td>856</td>\n",
       "      <td>126000</td>\n",
       "      <td>30</td>\n",
       "      <td>0.0</td>\n",
       "      <td>7890</td>\n",
       "      <td>6</td>\n",
       "      <td>6</td>\n",
       "      <td>1939</td>\n",
       "      <td>1950</td>\n",
       "      <td>...</td>\n",
       "      <td>399.0</td>\n",
       "      <td>0</td>\n",
       "      <td>0</td>\n",
       "      <td>0</td>\n",
       "      <td>0</td>\n",
       "      <td>166</td>\n",
       "      <td>0</td>\n",
       "      <td>0</td>\n",
       "      <td>3</td>\n",
       "      <td>2010</td>\n",
       "    </tr>\n",
       "    <tr>\n",
       "      <th>2</th>\n",
       "      <td>905476230</td>\n",
       "      <td>1049</td>\n",
       "      <td>139500</td>\n",
       "      <td>120</td>\n",
       "      <td>42.0</td>\n",
       "      <td>4235</td>\n",
       "      <td>5</td>\n",
       "      <td>5</td>\n",
       "      <td>1984</td>\n",
       "      <td>1984</td>\n",
       "      <td>...</td>\n",
       "      <td>266.0</td>\n",
       "      <td>0</td>\n",
       "      <td>105</td>\n",
       "      <td>0</td>\n",
       "      <td>0</td>\n",
       "      <td>0</td>\n",
       "      <td>0</td>\n",
       "      <td>0</td>\n",
       "      <td>2</td>\n",
       "      <td>2009</td>\n",
       "    </tr>\n",
       "    <tr>\n",
       "      <th>3</th>\n",
       "      <td>911128020</td>\n",
       "      <td>1001</td>\n",
       "      <td>124900</td>\n",
       "      <td>30</td>\n",
       "      <td>60.0</td>\n",
       "      <td>6060</td>\n",
       "      <td>5</td>\n",
       "      <td>9</td>\n",
       "      <td>1930</td>\n",
       "      <td>2007</td>\n",
       "      <td>...</td>\n",
       "      <td>216.0</td>\n",
       "      <td>154</td>\n",
       "      <td>0</td>\n",
       "      <td>42</td>\n",
       "      <td>86</td>\n",
       "      <td>0</td>\n",
       "      <td>0</td>\n",
       "      <td>0</td>\n",
       "      <td>11</td>\n",
       "      <td>2007</td>\n",
       "    </tr>\n",
       "    <tr>\n",
       "      <th>4</th>\n",
       "      <td>535377150</td>\n",
       "      <td>1039</td>\n",
       "      <td>114000</td>\n",
       "      <td>70</td>\n",
       "      <td>80.0</td>\n",
       "      <td>8146</td>\n",
       "      <td>4</td>\n",
       "      <td>8</td>\n",
       "      <td>1900</td>\n",
       "      <td>2003</td>\n",
       "      <td>...</td>\n",
       "      <td>281.0</td>\n",
       "      <td>0</td>\n",
       "      <td>0</td>\n",
       "      <td>168</td>\n",
       "      <td>0</td>\n",
       "      <td>111</td>\n",
       "      <td>0</td>\n",
       "      <td>0</td>\n",
       "      <td>5</td>\n",
       "      <td>2009</td>\n",
       "    </tr>\n",
       "    <tr>\n",
       "      <th>5</th>\n",
       "      <td>534177230</td>\n",
       "      <td>1665</td>\n",
       "      <td>227000</td>\n",
       "      <td>60</td>\n",
       "      <td>70.0</td>\n",
       "      <td>8400</td>\n",
       "      <td>8</td>\n",
       "      <td>6</td>\n",
       "      <td>2001</td>\n",
       "      <td>2001</td>\n",
       "      <td>...</td>\n",
       "      <td>528.0</td>\n",
       "      <td>0</td>\n",
       "      <td>45</td>\n",
       "      <td>0</td>\n",
       "      <td>0</td>\n",
       "      <td>0</td>\n",
       "      <td>0</td>\n",
       "      <td>0</td>\n",
       "      <td>11</td>\n",
       "      <td>2009</td>\n",
       "    </tr>\n",
       "    <tr>\n",
       "      <th>...</th>\n",
       "      <td>...</td>\n",
       "      <td>...</td>\n",
       "      <td>...</td>\n",
       "      <td>...</td>\n",
       "      <td>...</td>\n",
       "      <td>...</td>\n",
       "      <td>...</td>\n",
       "      <td>...</td>\n",
       "      <td>...</td>\n",
       "      <td>...</td>\n",
       "      <td>...</td>\n",
       "      <td>...</td>\n",
       "      <td>...</td>\n",
       "      <td>...</td>\n",
       "      <td>...</td>\n",
       "      <td>...</td>\n",
       "      <td>...</td>\n",
       "      <td>...</td>\n",
       "      <td>...</td>\n",
       "      <td>...</td>\n",
       "      <td>...</td>\n",
       "    </tr>\n",
       "    <tr>\n",
       "      <th>759</th>\n",
       "      <td>903205040</td>\n",
       "      <td>952</td>\n",
       "      <td>121000</td>\n",
       "      <td>30</td>\n",
       "      <td>0.0</td>\n",
       "      <td>8854</td>\n",
       "      <td>6</td>\n",
       "      <td>6</td>\n",
       "      <td>1916</td>\n",
       "      <td>1950</td>\n",
       "      <td>...</td>\n",
       "      <td>192.0</td>\n",
       "      <td>0</td>\n",
       "      <td>98</td>\n",
       "      <td>0</td>\n",
       "      <td>0</td>\n",
       "      <td>40</td>\n",
       "      <td>0</td>\n",
       "      <td>0</td>\n",
       "      <td>5</td>\n",
       "      <td>2009</td>\n",
       "    </tr>\n",
       "    <tr>\n",
       "      <th>760</th>\n",
       "      <td>905402060</td>\n",
       "      <td>1733</td>\n",
       "      <td>139600</td>\n",
       "      <td>20</td>\n",
       "      <td>0.0</td>\n",
       "      <td>13680</td>\n",
       "      <td>3</td>\n",
       "      <td>5</td>\n",
       "      <td>1955</td>\n",
       "      <td>1955</td>\n",
       "      <td>...</td>\n",
       "      <td>452.0</td>\n",
       "      <td>0</td>\n",
       "      <td>0</td>\n",
       "      <td>0</td>\n",
       "      <td>0</td>\n",
       "      <td>0</td>\n",
       "      <td>0</td>\n",
       "      <td>0</td>\n",
       "      <td>6</td>\n",
       "      <td>2009</td>\n",
       "    </tr>\n",
       "    <tr>\n",
       "      <th>761</th>\n",
       "      <td>909275030</td>\n",
       "      <td>2002</td>\n",
       "      <td>145000</td>\n",
       "      <td>90</td>\n",
       "      <td>82.0</td>\n",
       "      <td>6270</td>\n",
       "      <td>5</td>\n",
       "      <td>6</td>\n",
       "      <td>1949</td>\n",
       "      <td>1950</td>\n",
       "      <td>...</td>\n",
       "      <td>871.0</td>\n",
       "      <td>0</td>\n",
       "      <td>0</td>\n",
       "      <td>0</td>\n",
       "      <td>0</td>\n",
       "      <td>0</td>\n",
       "      <td>0</td>\n",
       "      <td>0</td>\n",
       "      <td>8</td>\n",
       "      <td>2007</td>\n",
       "    </tr>\n",
       "    <tr>\n",
       "      <th>762</th>\n",
       "      <td>907192040</td>\n",
       "      <td>1842</td>\n",
       "      <td>217500</td>\n",
       "      <td>60</td>\n",
       "      <td>0.0</td>\n",
       "      <td>8826</td>\n",
       "      <td>7</td>\n",
       "      <td>5</td>\n",
       "      <td>2000</td>\n",
       "      <td>2000</td>\n",
       "      <td>...</td>\n",
       "      <td>486.0</td>\n",
       "      <td>193</td>\n",
       "      <td>96</td>\n",
       "      <td>0</td>\n",
       "      <td>0</td>\n",
       "      <td>0</td>\n",
       "      <td>0</td>\n",
       "      <td>0</td>\n",
       "      <td>7</td>\n",
       "      <td>2007</td>\n",
       "    </tr>\n",
       "    <tr>\n",
       "      <th>763</th>\n",
       "      <td>906223180</td>\n",
       "      <td>1911</td>\n",
       "      <td>215000</td>\n",
       "      <td>60</td>\n",
       "      <td>80.0</td>\n",
       "      <td>9554</td>\n",
       "      <td>8</td>\n",
       "      <td>5</td>\n",
       "      <td>1993</td>\n",
       "      <td>1994</td>\n",
       "      <td>...</td>\n",
       "      <td>471.0</td>\n",
       "      <td>182</td>\n",
       "      <td>81</td>\n",
       "      <td>0</td>\n",
       "      <td>0</td>\n",
       "      <td>0</td>\n",
       "      <td>0</td>\n",
       "      <td>0</td>\n",
       "      <td>9</td>\n",
       "      <td>2006</td>\n",
       "    </tr>\n",
       "  </tbody>\n",
       "</table>\n",
       "<p>2580 rows × 38 columns</p>\n",
       "</div>"
      ],
      "text/plain": [
       "           PID  GrLivArea  SalePrice  MSSubClass  LotFrontage  LotArea  \\\n",
       "1    909176150        856     126000          30          0.0     7890   \n",
       "2    905476230       1049     139500         120         42.0     4235   \n",
       "3    911128020       1001     124900          30         60.0     6060   \n",
       "4    535377150       1039     114000          70         80.0     8146   \n",
       "5    534177230       1665     227000          60         70.0     8400   \n",
       "..         ...        ...        ...         ...          ...      ...   \n",
       "759  903205040        952     121000          30          0.0     8854   \n",
       "760  905402060       1733     139600          20          0.0    13680   \n",
       "761  909275030       2002     145000          90         82.0     6270   \n",
       "762  907192040       1842     217500          60          0.0     8826   \n",
       "763  906223180       1911     215000          60         80.0     9554   \n",
       "\n",
       "     OverallQual  OverallCond  YearBuilt  YearRemodAdd  ...  GarageArea  \\\n",
       "1              6            6       1939          1950  ...       399.0   \n",
       "2              5            5       1984          1984  ...       266.0   \n",
       "3              5            9       1930          2007  ...       216.0   \n",
       "4              4            8       1900          2003  ...       281.0   \n",
       "5              8            6       2001          2001  ...       528.0   \n",
       "..           ...          ...        ...           ...  ...         ...   \n",
       "759            6            6       1916          1950  ...       192.0   \n",
       "760            3            5       1955          1955  ...       452.0   \n",
       "761            5            6       1949          1950  ...       871.0   \n",
       "762            7            5       2000          2000  ...       486.0   \n",
       "763            8            5       1993          1994  ...       471.0   \n",
       "\n",
       "     WoodDeckSF  OpenPorchSF  EnclosedPorch  3SsnPorch  ScreenPorch  PoolArea  \\\n",
       "1             0            0              0          0          166         0   \n",
       "2             0          105              0          0            0         0   \n",
       "3           154            0             42         86            0         0   \n",
       "4             0            0            168          0          111         0   \n",
       "5             0           45              0          0            0         0   \n",
       "..          ...          ...            ...        ...          ...       ...   \n",
       "759           0           98              0          0           40         0   \n",
       "760           0            0              0          0            0         0   \n",
       "761           0            0              0          0            0         0   \n",
       "762         193           96              0          0            0         0   \n",
       "763         182           81              0          0            0         0   \n",
       "\n",
       "     MiscVal  MoSold  YrSold  \n",
       "1          0       3    2010  \n",
       "2          0       2    2009  \n",
       "3          0      11    2007  \n",
       "4          0       5    2009  \n",
       "5          0      11    2009  \n",
       "..       ...     ...     ...  \n",
       "759        0       5    2009  \n",
       "760        0       6    2009  \n",
       "761        0       8    2007  \n",
       "762        0       7    2007  \n",
       "763        0       9    2006  \n",
       "\n",
       "[2580 rows x 38 columns]"
      ]
     },
     "execution_count": 111,
     "metadata": {},
     "output_type": "execute_result"
    }
   ],
   "source": [
    "h_quant"
   ]
  },
  {
   "cell_type": "markdown",
   "metadata": {},
   "source": [
    "### Dummifying"
   ]
  },
  {
   "cell_type": "code",
   "execution_count": 112,
   "metadata": {},
   "outputs": [
    {
     "data": {
      "text/plain": [
       "['MSZoning',\n",
       " 'Street',\n",
       " 'LotShape',\n",
       " 'LandContour',\n",
       " 'Utilities',\n",
       " 'LotConfig',\n",
       " 'LandSlope',\n",
       " 'Neighborhood',\n",
       " 'Condition1',\n",
       " 'Condition2',\n",
       " 'BldgType',\n",
       " 'HouseStyle',\n",
       " 'RoofStyle',\n",
       " 'RoofMatl',\n",
       " 'Exterior1st',\n",
       " 'Exterior2nd',\n",
       " 'MasVnrType',\n",
       " 'ExterQual',\n",
       " 'ExterCond',\n",
       " 'Foundation',\n",
       " 'BsmtQual',\n",
       " 'BsmtCond',\n",
       " 'BsmtExposure',\n",
       " 'BsmtFinType1',\n",
       " 'BsmtFinType2',\n",
       " 'Heating',\n",
       " 'HeatingQC',\n",
       " 'CentralAir',\n",
       " 'Electrical',\n",
       " 'KitchenQual',\n",
       " 'Functional',\n",
       " 'FireplaceQu',\n",
       " 'GarageType',\n",
       " 'GarageFinish',\n",
       " 'GarageQual',\n",
       " 'GarageCond',\n",
       " 'PavedDrive',\n",
       " 'SaleType',\n",
       " 'SaleCondition']"
      ]
     },
     "execution_count": 112,
     "metadata": {},
     "output_type": "execute_result"
    }
   ],
   "source": [
    "qual"
   ]
  },
  {
   "cell_type": "code",
   "execution_count": 113,
   "metadata": {},
   "outputs": [],
   "source": [
    "qualdf = housingdf.loc[:, qual]\n",
    "#print(pd.get_dummies(, prefix=['column1', 'column2']))"
   ]
  },
  {
   "cell_type": "code",
   "execution_count": 115,
   "metadata": {},
   "outputs": [],
   "source": [
    "dummydf = pd.get_dummies(qualdf, drop_first=True)"
   ]
  },
  {
   "cell_type": "code",
   "execution_count": 116,
   "metadata": {},
   "outputs": [],
   "source": [
    "newhousing = pd.concat([h_quant,dummydf],axis=1)"
   ]
  },
  {
   "cell_type": "code",
   "execution_count": 117,
   "metadata": {},
   "outputs": [
    {
     "data": {
      "text/html": [
       "<div>\n",
       "<style scoped>\n",
       "    .dataframe tbody tr th:only-of-type {\n",
       "        vertical-align: middle;\n",
       "    }\n",
       "\n",
       "    .dataframe tbody tr th {\n",
       "        vertical-align: top;\n",
       "    }\n",
       "\n",
       "    .dataframe thead th {\n",
       "        text-align: right;\n",
       "    }\n",
       "</style>\n",
       "<table border=\"1\" class=\"dataframe\">\n",
       "  <thead>\n",
       "    <tr style=\"text-align: right;\">\n",
       "      <th></th>\n",
       "      <th>PID</th>\n",
       "      <th>GrLivArea</th>\n",
       "      <th>SalePrice</th>\n",
       "      <th>MSSubClass</th>\n",
       "      <th>LotFrontage</th>\n",
       "      <th>LotArea</th>\n",
       "      <th>OverallQual</th>\n",
       "      <th>OverallCond</th>\n",
       "      <th>YearBuilt</th>\n",
       "      <th>YearRemodAdd</th>\n",
       "      <th>...</th>\n",
       "      <th>SaleType_Oth</th>\n",
       "      <th>SaleType_VWD</th>\n",
       "      <th>SaleType_WD</th>\n",
       "      <th>SaleType_MISSING</th>\n",
       "      <th>SaleCondition_AdjLand</th>\n",
       "      <th>SaleCondition_Alloca</th>\n",
       "      <th>SaleCondition_Family</th>\n",
       "      <th>SaleCondition_Normal</th>\n",
       "      <th>SaleCondition_Partial</th>\n",
       "      <th>SaleCondition_MISSING</th>\n",
       "    </tr>\n",
       "  </thead>\n",
       "  <tbody>\n",
       "    <tr>\n",
       "      <th>1</th>\n",
       "      <td>909176150</td>\n",
       "      <td>856</td>\n",
       "      <td>126000</td>\n",
       "      <td>30</td>\n",
       "      <td>0.0</td>\n",
       "      <td>7890</td>\n",
       "      <td>6</td>\n",
       "      <td>6</td>\n",
       "      <td>1939</td>\n",
       "      <td>1950</td>\n",
       "      <td>...</td>\n",
       "      <td>0</td>\n",
       "      <td>0</td>\n",
       "      <td>1</td>\n",
       "      <td>0</td>\n",
       "      <td>0</td>\n",
       "      <td>0</td>\n",
       "      <td>0</td>\n",
       "      <td>1</td>\n",
       "      <td>0</td>\n",
       "      <td>0</td>\n",
       "    </tr>\n",
       "    <tr>\n",
       "      <th>2</th>\n",
       "      <td>905476230</td>\n",
       "      <td>1049</td>\n",
       "      <td>139500</td>\n",
       "      <td>120</td>\n",
       "      <td>42.0</td>\n",
       "      <td>4235</td>\n",
       "      <td>5</td>\n",
       "      <td>5</td>\n",
       "      <td>1984</td>\n",
       "      <td>1984</td>\n",
       "      <td>...</td>\n",
       "      <td>0</td>\n",
       "      <td>0</td>\n",
       "      <td>1</td>\n",
       "      <td>0</td>\n",
       "      <td>0</td>\n",
       "      <td>0</td>\n",
       "      <td>0</td>\n",
       "      <td>1</td>\n",
       "      <td>0</td>\n",
       "      <td>0</td>\n",
       "    </tr>\n",
       "    <tr>\n",
       "      <th>3</th>\n",
       "      <td>911128020</td>\n",
       "      <td>1001</td>\n",
       "      <td>124900</td>\n",
       "      <td>30</td>\n",
       "      <td>60.0</td>\n",
       "      <td>6060</td>\n",
       "      <td>5</td>\n",
       "      <td>9</td>\n",
       "      <td>1930</td>\n",
       "      <td>2007</td>\n",
       "      <td>...</td>\n",
       "      <td>0</td>\n",
       "      <td>0</td>\n",
       "      <td>1</td>\n",
       "      <td>0</td>\n",
       "      <td>0</td>\n",
       "      <td>0</td>\n",
       "      <td>0</td>\n",
       "      <td>1</td>\n",
       "      <td>0</td>\n",
       "      <td>0</td>\n",
       "    </tr>\n",
       "    <tr>\n",
       "      <th>4</th>\n",
       "      <td>535377150</td>\n",
       "      <td>1039</td>\n",
       "      <td>114000</td>\n",
       "      <td>70</td>\n",
       "      <td>80.0</td>\n",
       "      <td>8146</td>\n",
       "      <td>4</td>\n",
       "      <td>8</td>\n",
       "      <td>1900</td>\n",
       "      <td>2003</td>\n",
       "      <td>...</td>\n",
       "      <td>0</td>\n",
       "      <td>0</td>\n",
       "      <td>1</td>\n",
       "      <td>0</td>\n",
       "      <td>0</td>\n",
       "      <td>0</td>\n",
       "      <td>0</td>\n",
       "      <td>1</td>\n",
       "      <td>0</td>\n",
       "      <td>0</td>\n",
       "    </tr>\n",
       "    <tr>\n",
       "      <th>5</th>\n",
       "      <td>534177230</td>\n",
       "      <td>1665</td>\n",
       "      <td>227000</td>\n",
       "      <td>60</td>\n",
       "      <td>70.0</td>\n",
       "      <td>8400</td>\n",
       "      <td>8</td>\n",
       "      <td>6</td>\n",
       "      <td>2001</td>\n",
       "      <td>2001</td>\n",
       "      <td>...</td>\n",
       "      <td>0</td>\n",
       "      <td>0</td>\n",
       "      <td>1</td>\n",
       "      <td>0</td>\n",
       "      <td>0</td>\n",
       "      <td>0</td>\n",
       "      <td>0</td>\n",
       "      <td>1</td>\n",
       "      <td>0</td>\n",
       "      <td>0</td>\n",
       "    </tr>\n",
       "    <tr>\n",
       "      <th>...</th>\n",
       "      <td>...</td>\n",
       "      <td>...</td>\n",
       "      <td>...</td>\n",
       "      <td>...</td>\n",
       "      <td>...</td>\n",
       "      <td>...</td>\n",
       "      <td>...</td>\n",
       "      <td>...</td>\n",
       "      <td>...</td>\n",
       "      <td>...</td>\n",
       "      <td>...</td>\n",
       "      <td>...</td>\n",
       "      <td>...</td>\n",
       "      <td>...</td>\n",
       "      <td>...</td>\n",
       "      <td>...</td>\n",
       "      <td>...</td>\n",
       "      <td>...</td>\n",
       "      <td>...</td>\n",
       "      <td>...</td>\n",
       "      <td>...</td>\n",
       "    </tr>\n",
       "    <tr>\n",
       "      <th>759</th>\n",
       "      <td>903205040</td>\n",
       "      <td>952</td>\n",
       "      <td>121000</td>\n",
       "      <td>30</td>\n",
       "      <td>0.0</td>\n",
       "      <td>8854</td>\n",
       "      <td>6</td>\n",
       "      <td>6</td>\n",
       "      <td>1916</td>\n",
       "      <td>1950</td>\n",
       "      <td>...</td>\n",
       "      <td>0</td>\n",
       "      <td>0</td>\n",
       "      <td>1</td>\n",
       "      <td>0</td>\n",
       "      <td>0</td>\n",
       "      <td>0</td>\n",
       "      <td>0</td>\n",
       "      <td>1</td>\n",
       "      <td>0</td>\n",
       "      <td>0</td>\n",
       "    </tr>\n",
       "    <tr>\n",
       "      <th>760</th>\n",
       "      <td>905402060</td>\n",
       "      <td>1733</td>\n",
       "      <td>139600</td>\n",
       "      <td>20</td>\n",
       "      <td>0.0</td>\n",
       "      <td>13680</td>\n",
       "      <td>3</td>\n",
       "      <td>5</td>\n",
       "      <td>1955</td>\n",
       "      <td>1955</td>\n",
       "      <td>...</td>\n",
       "      <td>0</td>\n",
       "      <td>0</td>\n",
       "      <td>1</td>\n",
       "      <td>0</td>\n",
       "      <td>0</td>\n",
       "      <td>0</td>\n",
       "      <td>0</td>\n",
       "      <td>1</td>\n",
       "      <td>0</td>\n",
       "      <td>0</td>\n",
       "    </tr>\n",
       "    <tr>\n",
       "      <th>761</th>\n",
       "      <td>909275030</td>\n",
       "      <td>2002</td>\n",
       "      <td>145000</td>\n",
       "      <td>90</td>\n",
       "      <td>82.0</td>\n",
       "      <td>6270</td>\n",
       "      <td>5</td>\n",
       "      <td>6</td>\n",
       "      <td>1949</td>\n",
       "      <td>1950</td>\n",
       "      <td>...</td>\n",
       "      <td>0</td>\n",
       "      <td>0</td>\n",
       "      <td>1</td>\n",
       "      <td>0</td>\n",
       "      <td>0</td>\n",
       "      <td>0</td>\n",
       "      <td>0</td>\n",
       "      <td>1</td>\n",
       "      <td>0</td>\n",
       "      <td>0</td>\n",
       "    </tr>\n",
       "    <tr>\n",
       "      <th>762</th>\n",
       "      <td>907192040</td>\n",
       "      <td>1842</td>\n",
       "      <td>217500</td>\n",
       "      <td>60</td>\n",
       "      <td>0.0</td>\n",
       "      <td>8826</td>\n",
       "      <td>7</td>\n",
       "      <td>5</td>\n",
       "      <td>2000</td>\n",
       "      <td>2000</td>\n",
       "      <td>...</td>\n",
       "      <td>0</td>\n",
       "      <td>0</td>\n",
       "      <td>1</td>\n",
       "      <td>0</td>\n",
       "      <td>0</td>\n",
       "      <td>0</td>\n",
       "      <td>0</td>\n",
       "      <td>1</td>\n",
       "      <td>0</td>\n",
       "      <td>0</td>\n",
       "    </tr>\n",
       "    <tr>\n",
       "      <th>763</th>\n",
       "      <td>906223180</td>\n",
       "      <td>1911</td>\n",
       "      <td>215000</td>\n",
       "      <td>60</td>\n",
       "      <td>80.0</td>\n",
       "      <td>9554</td>\n",
       "      <td>8</td>\n",
       "      <td>5</td>\n",
       "      <td>1993</td>\n",
       "      <td>1994</td>\n",
       "      <td>...</td>\n",
       "      <td>0</td>\n",
       "      <td>0</td>\n",
       "      <td>1</td>\n",
       "      <td>0</td>\n",
       "      <td>0</td>\n",
       "      <td>0</td>\n",
       "      <td>0</td>\n",
       "      <td>1</td>\n",
       "      <td>0</td>\n",
       "      <td>0</td>\n",
       "    </tr>\n",
       "  </tbody>\n",
       "</table>\n",
       "<p>2580 rows × 284 columns</p>\n",
       "</div>"
      ],
      "text/plain": [
       "           PID  GrLivArea  SalePrice  MSSubClass  LotFrontage  LotArea  \\\n",
       "1    909176150        856     126000          30          0.0     7890   \n",
       "2    905476230       1049     139500         120         42.0     4235   \n",
       "3    911128020       1001     124900          30         60.0     6060   \n",
       "4    535377150       1039     114000          70         80.0     8146   \n",
       "5    534177230       1665     227000          60         70.0     8400   \n",
       "..         ...        ...        ...         ...          ...      ...   \n",
       "759  903205040        952     121000          30          0.0     8854   \n",
       "760  905402060       1733     139600          20          0.0    13680   \n",
       "761  909275030       2002     145000          90         82.0     6270   \n",
       "762  907192040       1842     217500          60          0.0     8826   \n",
       "763  906223180       1911     215000          60         80.0     9554   \n",
       "\n",
       "     OverallQual  OverallCond  YearBuilt  YearRemodAdd  ...  SaleType_Oth  \\\n",
       "1              6            6       1939          1950  ...             0   \n",
       "2              5            5       1984          1984  ...             0   \n",
       "3              5            9       1930          2007  ...             0   \n",
       "4              4            8       1900          2003  ...             0   \n",
       "5              8            6       2001          2001  ...             0   \n",
       "..           ...          ...        ...           ...  ...           ...   \n",
       "759            6            6       1916          1950  ...             0   \n",
       "760            3            5       1955          1955  ...             0   \n",
       "761            5            6       1949          1950  ...             0   \n",
       "762            7            5       2000          2000  ...             0   \n",
       "763            8            5       1993          1994  ...             0   \n",
       "\n",
       "     SaleType_VWD  SaleType_WD   SaleType_MISSING  SaleCondition_AdjLand  \\\n",
       "1               0             1                 0                      0   \n",
       "2               0             1                 0                      0   \n",
       "3               0             1                 0                      0   \n",
       "4               0             1                 0                      0   \n",
       "5               0             1                 0                      0   \n",
       "..            ...           ...               ...                    ...   \n",
       "759             0             1                 0                      0   \n",
       "760             0             1                 0                      0   \n",
       "761             0             1                 0                      0   \n",
       "762             0             1                 0                      0   \n",
       "763             0             1                 0                      0   \n",
       "\n",
       "     SaleCondition_Alloca  SaleCondition_Family  SaleCondition_Normal  \\\n",
       "1                       0                     0                     1   \n",
       "2                       0                     0                     1   \n",
       "3                       0                     0                     1   \n",
       "4                       0                     0                     1   \n",
       "5                       0                     0                     1   \n",
       "..                    ...                   ...                   ...   \n",
       "759                     0                     0                     1   \n",
       "760                     0                     0                     1   \n",
       "761                     0                     0                     1   \n",
       "762                     0                     0                     1   \n",
       "763                     0                     0                     1   \n",
       "\n",
       "     SaleCondition_Partial  SaleCondition_MISSING  \n",
       "1                        0                      0  \n",
       "2                        0                      0  \n",
       "3                        0                      0  \n",
       "4                        0                      0  \n",
       "5                        0                      0  \n",
       "..                     ...                    ...  \n",
       "759                      0                      0  \n",
       "760                      0                      0  \n",
       "761                      0                      0  \n",
       "762                      0                      0  \n",
       "763                      0                      0  \n",
       "\n",
       "[2580 rows x 284 columns]"
      ]
     },
     "execution_count": 117,
     "metadata": {},
     "output_type": "execute_result"
    }
   ],
   "source": [
    "newhousing"
   ]
  },
  {
   "cell_type": "code",
   "execution_count": 170,
   "metadata": {},
   "outputs": [
    {
     "data": {
      "text/plain": [
       "array([ 6,  5,  4,  8,  7,  3, 10,  9,  2,  1], dtype=int64)"
      ]
     },
     "execution_count": 170,
     "metadata": {},
     "output_type": "execute_result"
    }
   ],
   "source": [
    "newhousing['OverallQual'].unique()"
   ]
  },
  {
   "cell_type": "code",
   "execution_count": 172,
   "metadata": {},
   "outputs": [
    {
     "data": {
      "text/plain": [
       "array([ 6,  5,  4,  8,  7,  3, 10,  9,  2,  1], dtype=int64)"
      ]
     },
     "execution_count": 172,
     "metadata": {},
     "output_type": "execute_result"
    }
   ],
   "source": [
    "housing.OverallQual.unique()"
   ]
  },
  {
   "cell_type": "markdown",
   "metadata": {},
   "source": [
    "### Feature Engineering"
   ]
  },
  {
   "cell_type": "code",
   "execution_count": 118,
   "metadata": {},
   "outputs": [],
   "source": [
    "newhousing['Baths'] = newhousing['BsmtFullBath'] + (newhousing['BsmtHalfBath']/2) + newhousing['FullBath']+ (newhousing['HalfBath']/2)"
   ]
  },
  {
   "cell_type": "code",
   "execution_count": 119,
   "metadata": {},
   "outputs": [],
   "source": [
    "newhousing.drop(['BsmtFullBath','BsmtHalfBath','FullBath','HalfBath'], axis=1,inplace=True)"
   ]
  },
  {
   "cell_type": "markdown",
   "metadata": {},
   "source": [
    "---"
   ]
  },
  {
   "cell_type": "markdown",
   "metadata": {},
   "source": [
    "## CSVs"
   ]
  },
  {
   "cell_type": "code",
   "execution_count": 120,
   "metadata": {},
   "outputs": [],
   "source": [
    "newhousing.to_csv('newhousing.csv',index=False)"
   ]
  },
  {
   "cell_type": "code",
   "execution_count": 173,
   "metadata": {},
   "outputs": [],
   "source": [
    "dummydf.to_csv('dummyvars.csv', index=False)"
   ]
  },
  {
   "cell_type": "markdown",
   "metadata": {},
   "source": [
    "---"
   ]
  },
  {
   "cell_type": "markdown",
   "metadata": {},
   "source": [
    "## Regression Techniques"
   ]
  },
  {
   "cell_type": "code",
   "execution_count": 75,
   "metadata": {},
   "outputs": [],
   "source": [
    "from sklearn.linear_model import LassoCV\n",
    "from sklearn.model_selection import train_test_split"
   ]
  },
  {
   "cell_type": "code",
   "execution_count": 121,
   "metadata": {},
   "outputs": [],
   "source": [
    "features = newhousing.loc[:, newhousing.columns != 'SalePrice'].columns.tolist()\n",
    "X = newhousing[features]\n",
    "y = newhousing['SalePrice']\n",
    "X_train,X_test,y_train,y_test = train_test_split(X, y, test_size=0.2,random_state=42)"
   ]
  },
  {
   "cell_type": "code",
   "execution_count": 124,
   "metadata": {
    "scrolled": true
   },
   "outputs": [
    {
     "name": "stdout",
     "output_type": "stream",
     "text": [
      "[0.00000000e+00 5.54254906e+01 6.07652797e+01 8.88082666e+00\n",
      " 4.50175537e-01 8.12130583e+03 5.34451228e+03 3.12690175e+02\n",
      " 8.54780225e+01 2.48320867e+01 1.87343236e+01 1.33841201e+01\n",
      " 0.00000000e+00 1.63353037e+01 0.00000000e+00 0.00000000e+00\n",
      " 5.79501467e+00 3.59349137e+03 8.40591133e+03 0.00000000e+00\n",
      " 5.13398300e+03 0.00000000e+00 3.49989018e+03 1.47487721e+01\n",
      " 4.71635264e+00 0.00000000e+00 1.03003627e+01 0.00000000e+00\n",
      " 4.09467056e+01 3.73377031e+00 3.22639229e-02 1.05227654e+02\n",
      " 0.00000000e+00 5.15688837e+03 0.00000000e+00 2.09144860e+03\n",
      " 3.09205818e+02 5.24744834e+03 0.00000000e+00 0.00000000e+00\n",
      " 4.72458085e+03 0.00000000e+00 2.13197535e+03 0.00000000e+00\n",
      " 0.00000000e+00 0.00000000e+00 5.81854875e+03 0.00000000e+00\n",
      " 3.56364279e+03 0.00000000e+00 3.96331181e+03 0.00000000e+00\n",
      " 2.24985840e+03 3.54072865e+03 7.24160171e+03 0.00000000e+00\n",
      " 0.00000000e+00 1.95069064e+03 1.83674856e+04 0.00000000e+00\n",
      " 3.73863776e+03 1.73882167e+03 4.44128253e+03 0.00000000e+00\n",
      " 0.00000000e+00 1.28762908e+04 6.73286914e+03 0.00000000e+00\n",
      " 0.00000000e+00 7.18393906e+04 0.00000000e+00 0.00000000e+00\n",
      " 7.94122970e+02 3.95380331e+03 5.43162860e+03 8.38616835e+03\n",
      " 4.71130491e+03 3.24076867e+04 2.52266338e+04 5.51262124e+03\n",
      " 6.95589606e+03 0.00000000e+00 1.23194943e+03 2.13394239e+04\n",
      " 3.49075064e+04 1.19211925e+03 0.00000000e+00 0.00000000e+00\n",
      " 0.00000000e+00 7.76609620e+03 3.40097308e+03 8.61040268e+03\n",
      " 1.60668350e+03 0.00000000e+00 0.00000000e+00 2.41903892e+02\n",
      " 0.00000000e+00 5.85777531e+03 0.00000000e+00 3.38725081e+04\n",
      " 1.71171837e+05 0.00000000e+00 0.00000000e+00 0.00000000e+00\n",
      " 0.00000000e+00 0.00000000e+00 1.18448785e+04 1.36356175e+04\n",
      " 1.00886428e+04 0.00000000e+00 0.00000000e+00 0.00000000e+00\n",
      " 0.00000000e+00 1.47077976e+03 0.00000000e+00 7.75499690e+02\n",
      " 0.00000000e+00 0.00000000e+00 0.00000000e+00 0.00000000e+00\n",
      " 0.00000000e+00 8.95372723e+03 2.90874961e+03 0.00000000e+00\n",
      " 0.00000000e+00 1.13454890e+04 0.00000000e+00 0.00000000e+00\n",
      " 0.00000000e+00 6.14021748e+04 0.00000000e+00 0.00000000e+00\n",
      " 0.00000000e+00 1.17403792e+04 1.46792091e+03 0.00000000e+00\n",
      " 2.44621305e+02 4.13157212e+03 1.04287375e+03 2.44455478e+03\n",
      " 3.70569839e+04 0.00000000e+00 0.00000000e+00 0.00000000e+00\n",
      " 0.00000000e+00 0.00000000e+00 3.38320061e+02 0.00000000e+00\n",
      " 0.00000000e+00 1.31101297e+02 0.00000000e+00 0.00000000e+00\n",
      " 1.19853977e+03 0.00000000e+00 4.57796601e+02 4.13070341e+02\n",
      " 0.00000000e+00 7.03610612e+03 3.07789224e+03 0.00000000e+00\n",
      " 0.00000000e+00 0.00000000e+00 8.67121739e+02 3.18182821e+03\n",
      " 0.00000000e+00 0.00000000e+00 1.06117535e+04 1.91443471e+04\n",
      " 2.03748638e+04 0.00000000e+00 4.56538063e+03 0.00000000e+00\n",
      " 0.00000000e+00 7.33906813e+02 0.00000000e+00 1.02118603e+03\n",
      " 9.82550188e+02 4.64563173e+03 6.86990965e+03 0.00000000e+00\n",
      " 0.00000000e+00 5.47984759e+03 1.51212944e+04 0.00000000e+00\n",
      " 1.18060909e+04 0.00000000e+00 1.30953933e+03 0.00000000e+00\n",
      " 0.00000000e+00 0.00000000e+00 0.00000000e+00 1.29897797e+04\n",
      " 4.85828171e+03 4.36167468e+03 5.29902392e+02 0.00000000e+00\n",
      " 2.80355170e+03 4.57630305e+03 9.87576855e+02 2.53073075e+03\n",
      " 0.00000000e+00 3.84651103e+02 9.34603687e+03 1.67003469e+03\n",
      " 1.59258047e+03 0.00000000e+00 0.00000000e+00 1.14489285e+03\n",
      " 0.00000000e+00 0.00000000e+00 2.45019009e+04 6.59661664e+03\n",
      " 0.00000000e+00 1.15531585e+03 2.89524884e+02 0.00000000e+00\n",
      " 2.40174897e+03 0.00000000e+00 0.00000000e+00 0.00000000e+00\n",
      " 0.00000000e+00 1.27684505e+03 0.00000000e+00 0.00000000e+00\n",
      " 1.13978156e+04 1.49535925e+04 2.02070897e+03 1.59861969e+04\n",
      " 0.00000000e+00 1.04095851e+04 0.00000000e+00 2.62946445e+02\n",
      " 3.47915936e+03 1.59560779e+03 1.13676451e+04 0.00000000e+00\n",
      " 2.76497599e+03 0.00000000e+00 4.46401083e+02 2.68652949e+03\n",
      " 0.00000000e+00 0.00000000e+00 3.65394861e+03 0.00000000e+00\n",
      " 0.00000000e+00 0.00000000e+00 3.67899128e+03 2.67902108e+03\n",
      " 4.48131211e+02 0.00000000e+00 0.00000000e+00 3.05894287e+03\n",
      " 2.71533683e+03 8.63215389e+02 0.00000000e+00 6.62609066e+02\n",
      " 0.00000000e+00 0.00000000e+00 0.00000000e+00 0.00000000e+00\n",
      " 8.74346552e+02 0.00000000e+00 0.00000000e+00 2.08838834e+03\n",
      " 1.71137877e+04 6.73419131e+02 6.05879439e+02 0.00000000e+00\n",
      " 0.00000000e+00 1.50350463e+03 0.00000000e+00 0.00000000e+00\n",
      " 0.00000000e+00 0.00000000e+00 1.08529862e+04 1.77392499e+04\n",
      " 4.42714881e+03 1.50768769e+04 0.00000000e+00 1.29423856e+03]\n"
     ]
    }
   ],
   "source": [
    "\n",
    "clf = LassoCV(normalize=True, max_iter=2000)\n",
    "clf.fit(X_train,y_train)\n",
    "\n",
    "importance = np.abs(clf.coef_)\n",
    "print(importance)"
   ]
  },
  {
   "cell_type": "code",
   "execution_count": 125,
   "metadata": {},
   "outputs": [
    {
     "data": {
      "text/plain": [
       "0.9334723583806537"
      ]
     },
     "execution_count": 125,
     "metadata": {},
     "output_type": "execute_result"
    }
   ],
   "source": [
    "clf.score(X_train,y_train)"
   ]
  },
  {
   "cell_type": "code",
   "execution_count": 126,
   "metadata": {},
   "outputs": [
    {
     "data": {
      "text/plain": [
       "0.9171884176818813"
      ]
     },
     "execution_count": 126,
     "metadata": {},
     "output_type": "execute_result"
    }
   ],
   "source": [
    "clf.score(X_test,y_test)"
   ]
  },
  {
   "cell_type": "code",
   "execution_count": 149,
   "metadata": {},
   "outputs": [
    {
     "data": {
      "text/plain": [
       "<AxesSubplot:>"
      ]
     },
     "execution_count": 149,
     "metadata": {},
     "output_type": "execute_result"
    },
    {
     "data": {
      "image/png": "[encoded data removed]",
      "text/plain": [
       "<Figure size 2880x360 with 1 Axes>"
      ]
     },
     "metadata": {
      "needs_background": "light"
     },
     "output_type": "display_data"
    }
   ],
   "source": [
    "pd.Series(dict(zip(X_train.columns, clf.coef_))).sort_values().plot(kind='bar',figsize=(40,5))"
   ]
  },
  {
   "cell_type": "code",
   "execution_count": 140,
   "metadata": {},
   "outputs": [
    {
     "data": {
      "text/plain": [
       "0       True\n",
       "1      False\n",
       "2       True\n",
       "3      False\n",
       "4      False\n",
       "       ...  \n",
       "275     True\n",
       "276    False\n",
       "277    False\n",
       "278     True\n",
       "279    False\n",
       "Length: 280, dtype: bool"
      ]
     },
     "execution_count": 140,
     "metadata": {},
     "output_type": "execute_result"
    }
   ],
   "source": [
    "pd.Series(clf.coef_<0.05)"
   ]
  },
  {
   "cell_type": "code",
   "execution_count": 155,
   "metadata": {},
   "outputs": [
    {
     "data": {
      "text/plain": [
       "0                        PID\n",
       "1                 MSSubClass\n",
       "2                  BsmtUnfSF\n",
       "3                   1stFlrSF\n",
       "4                   2ndFlrSF\n",
       "               ...          \n",
       "199             SaleType_WD \n",
       "200         SaleType_MISSING\n",
       "201    SaleCondition_AdjLand\n",
       "202     SaleCondition_Family\n",
       "203    SaleCondition_MISSING\n",
       "Length: 204, dtype: object"
      ]
     },
     "execution_count": 155,
     "metadata": {},
     "output_type": "execute_result"
    }
   ],
   "source": [
    "pd.Series(X_train.columns[clf.coef_<0.05])"
   ]
  },
  {
   "cell_type": "code",
   "execution_count": 158,
   "metadata": {},
   "outputs": [],
   "source": [
    "t = pd.Series(dict(zip(X_train.columns, clf.coef_))).sort_values()\n"
   ]
  },
  {
   "cell_type": "code",
   "execution_count": 168,
   "metadata": {},
   "outputs": [
    {
     "data": {
      "text/plain": [
       "Condition2_PosN      -171171.837013\n",
       "Heating_OthW          -24501.900888\n",
       "ExterQual_TA          -20374.863830\n",
       "ExterQual_Gd          -19144.347145\n",
       "LandSlope_Sev         -18367.485621\n",
       "                          ...      \n",
       "Condition1_RRNn         -241.903892\n",
       "Exterior2nd_CBlock      -131.101297\n",
       "MoSold                  -105.227654\n",
       "MSSubClass               -60.765280\n",
       "LowQualFinSF              -5.795015\n",
       "Length: 76, dtype: float64"
      ]
     },
     "execution_count": 168,
     "metadata": {},
     "output_type": "execute_result"
    }
   ],
   "source": [
    "t[t<0]"
   ]
  },
  {
   "cell_type": "code",
   "execution_count": 167,
   "metadata": {},
   "outputs": [
    {
     "data": {
      "text/plain": [
       "[-171171.83701304605,\n",
       " -24501.900887510637,\n",
       " -20374.863829797403,\n",
       " -19144.347145451204,\n",
       " -18367.48562059202,\n",
       " -17739.249857111572,\n",
       " -15986.19693519892,\n",
       " -15121.294370334243,\n",
       " -14953.592533030736,\n",
       " -13635.6175467253,\n",
       " -11844.878472495588,\n",
       " -11806.090932985806,\n",
       " -11397.815626099135,\n",
       " -10611.7535294402,\n",
       " -10409.585149959836,\n",
       " -10088.642807559725,\n",
       " -8953.727226234276,\n",
       " -8405.91133497622,\n",
       " -7241.601714251798,\n",
       " -6955.896057800152,\n",
       " -6732.869136121543,\n",
       " -5857.775306766725,\n",
       " -5512.621236686186,\n",
       " -5479.847590091728,\n",
       " -5431.628599136269,\n",
       " -5156.888372819415,\n",
       " -4858.281706977205,\n",
       " -4711.304910672611,\n",
       " -4645.631734130867,\n",
       " -4576.303048980456,\n",
       " -4565.380630941517,\n",
       " -4361.67467641103,\n",
       " -4131.572124266368,\n",
       " -3963.3118092755476,\n",
       " -3953.803312517082,\n",
       " -3653.948610174292,\n",
       " -3593.491368854527,\n",
       " -3540.728649669901,\n",
       " -3479.159356678886,\n",
       " -2908.7496081744553,\n",
       " -2764.9759937516114,\n",
       " -2715.336831294245,\n",
       " -2686.5294851974795,\n",
       " -2679.02107509302,\n",
       " -2444.5547815154205,\n",
       " -2401.748967258873,\n",
       " -1670.034686436814,\n",
       " -1606.6835027184277,\n",
       " -1595.607787413942,\n",
       " -1592.580474721193,\n",
       " -1503.5046323760816,\n",
       " -1467.9209139752934,\n",
       " -1309.5393348209461,\n",
       " -1231.949426742098,\n",
       " -1198.539768724309,\n",
       " -1192.119253354486,\n",
       " -1155.3158488664421,\n",
       " -1144.8928476611175,\n",
       " -1021.1860264546622,\n",
       " -987.5768554350315,\n",
       " -874.3465516306012,\n",
       " -867.1217389765656,\n",
       " -863.215389301373,\n",
       " -662.6090656282938,\n",
       " -605.8794392795273,\n",
       " -529.9023916445677,\n",
       " -457.7966009754996,\n",
       " -448.1312105041703,\n",
       " -384.6511034999018,\n",
       " -289.52488351236985,\n",
       " -244.62130549741082,\n",
       " -241.90389244469478,\n",
       " -131.1012974523776,\n",
       " -105.2276535187435,\n",
       " -60.7652797176405,\n",
       " -5.795014671249315]"
      ]
     },
     "execution_count": 167,
     "metadata": {},
     "output_type": "execute_result"
    }
   ],
   "source": [
    "sigvars"
   ]
  }
 ],
 "metadata": {
  "kernelspec": {
   "display_name": "Python 3",
   "language": "python",
   "name": "python3"
  },
  "language_info": {
   "codemirror_mode": {
    "name": "ipython",
    "version": 3
   },
   "file_extension": ".py",
   "mimetype": "text/x-python",
   "name": "python",
   "nbconvert_exporter": "python",
   "pygments_lexer": "ipython3",
   "version": "3.8.3"
  }
 },
 "nbformat": 4,
 "nbformat_minor": 4
}
