{
 "cells": [
  {
   "cell_type": "code",
   "execution_count": 16,
   "metadata": {},
   "outputs": [],
   "source": [
    "import numpy as np\n",
    "import pandas as pd\n",
    "import seaborn as sns\n",
    "import re\n",
    "%matplotlib inline \n",
    "import matplotlib.pyplot as plt"
   ]
  },
  {
   "cell_type": "code",
   "execution_count": 17,
   "metadata": {},
   "outputs": [],
   "source": [
    "housing = pd.read_csv('Ames_HousePrice.csv', index_col=0)\n",
    "real_est = pd.read_csv('Ames Real Estate Data.csv')"
   ]
  },
  {
   "cell_type": "code",
   "execution_count": 18,
   "metadata": {},
   "outputs": [],
   "source": [
    "housing_c = housing.copy()"
   ]
  },
  {
   "cell_type": "code",
   "execution_count": 19,
   "metadata": {},
   "outputs": [],
   "source": [
    "housing_c['Baths'] = housing['BsmtFullBath'] + (housing['BsmtHalfBath']/2) + housing['FullBath']+ (housing['HalfBath']/2)"
   ]
  },
  {
   "cell_type": "code",
   "execution_count": 20,
   "metadata": {},
   "outputs": [],
   "source": [
    "housing_c.drop(columns=['PID','Street','Alley','Utilities','Neighborhood','Condition1',\n",
    "                    'Condition2','BldgType','HouseStyle', 'RoofMatl',\n",
    "                    'Exterior1st','Exterior2nd','MasVnrType','BsmtExposure',\n",
    "                    'BsmtFinType1','BsmtFinType2','Heating','1stFlrSF','2ndFlrSF','PoolQC',\n",
    "                     'MiscFeature','MiscVal','YrSold','MoSold','SaleType','SaleCondition',\n",
    "                     'BsmtFullBath','BsmtHalfBath','FullBath','HalfBath','MSSubClass',\n",
    "                     'LotConfig','Foundation','GarageYrBlt'],inplace=True)"
   ]
  },
  {
   "cell_type": "markdown",
   "metadata": {},
   "source": [
    "## Seperating Quantative and Qualitative data\n",
    "\n",
    "strings are object datatype so we filter columns by this"
   ]
  },
  {
   "cell_type": "code",
   "execution_count": 21,
   "metadata": {},
   "outputs": [],
   "source": [
    "quant = [col for col in housing_c.columns if housing_c.dtypes[col] != 'object']\n",
    "qual = [col for col in housing_c.columns if housing_c.dtypes[col] == 'object']"
   ]
  },
  {
   "cell_type": "markdown",
   "metadata": {},
   "source": [
    "## Imputing Missing Data (_Quantitative_)\n",
    "\n",
    "fill missing data with 0s"
   ]
  },
  {
   "cell_type": "code",
   "execution_count": 22,
   "metadata": {},
   "outputs": [
    {
     "data": {
      "text/plain": [
       "LotFrontage    17.91\n",
       "MasVnrArea      0.54\n",
       "Baths           0.08\n",
       "BsmtFinSF1      0.04\n",
       "BsmtFinSF2      0.04\n",
       "BsmtUnfSF       0.04\n",
       "TotalBsmtSF     0.04\n",
       "GarageCars      0.04\n",
       "dtype: float64"
      ]
     },
     "execution_count": 22,
     "metadata": {},
     "output_type": "execute_result"
    }
   ],
   "source": [
    "housing_c[quant].isna().mean().nlargest(8).round(4) * 100"
   ]
  },
  {
   "cell_type": "code",
   "execution_count": 23,
   "metadata": {},
   "outputs": [],
   "source": [
    "housing_c[quant] = housing_c.loc[:, quant].fillna(value=0)"
   ]
  },
  {
   "cell_type": "code",
   "execution_count": 24,
   "metadata": {},
   "outputs": [
    {
     "data": {
      "text/plain": [
       "GrLivArea       0.0\n",
       "SalePrice       0.0\n",
       "LotFrontage     0.0\n",
       "LotArea         0.0\n",
       "OverallQual     0.0\n",
       "OverallCond     0.0\n",
       "YearBuilt       0.0\n",
       "YearRemodAdd    0.0\n",
       "dtype: float64"
      ]
     },
     "execution_count": 24,
     "metadata": {},
     "output_type": "execute_result"
    }
   ],
   "source": [
    "housing_c[quant].isna().mean().nlargest(8).round(4) * 100"
   ]
  },
  {
   "cell_type": "markdown",
   "metadata": {},
   "source": [
    "## Imputing Missing Data (_Qualitative_)"
   ]
  },
  {
   "cell_type": "code",
   "execution_count": 25,
   "metadata": {},
   "outputs": [],
   "source": [
    "qualdf = housing_c.loc[:, qual]"
   ]
  },
  {
   "cell_type": "code",
   "execution_count": 26,
   "metadata": {},
   "outputs": [
    {
     "data": {
      "text/plain": [
       "Fence           79.65\n",
       "FireplaceQu     48.10\n",
       "GarageFinish     5.00\n",
       "GarageQual       5.00\n",
       "GarageCond       5.00\n",
       "GarageType       4.92\n",
       "BsmtQual         2.67\n",
       "BsmtCond         2.67\n",
       "Electrical       0.04\n",
       "MSZoning         0.00\n",
       "LotShape         0.00\n",
       "LandContour      0.00\n",
       "LandSlope        0.00\n",
       "RoofStyle        0.00\n",
       "ExterQual        0.00\n",
       "ExterCond        0.00\n",
       "HeatingQC        0.00\n",
       "dtype: float64"
      ]
     },
     "execution_count": 26,
     "metadata": {},
     "output_type": "execute_result"
    }
   ],
   "source": [
    "qualdf.isna().mean().nlargest(17).round(4) * 100"
   ]
  },
  {
   "cell_type": "code",
   "execution_count": 27,
   "metadata": {},
   "outputs": [],
   "source": [
    "#kaggle \n",
    "for col in qual:\n",
    "    housing_c[col] = housing_c[col].astype('category')\n",
    "    if housing_c[col].isnull().any:\n",
    "        housing_c[col] = housing_c[col].cat.add_categories(['MISSING'])\n",
    "        housing_c[col] = housing_c[col].fillna('MISSING')"
   ]
  },
  {
   "cell_type": "code",
   "execution_count": 28,
   "metadata": {},
   "outputs": [
    {
     "name": "stdout",
     "output_type": "stream",
     "text": [
      "['MSZoning_E', 'LotShape_E', 'LandContour_E', 'LandSlope_E', 'RoofStyle_E', 'ExterQual_E', 'ExterCond_E', 'BsmtQual_E', 'BsmtCond_E', 'HeatingQC_E', 'CentralAir_E', 'Electrical_E', 'KitchenQual_E', 'Functional_E', 'FireplaceQu_E', 'GarageType_E', 'GarageFinish_E', 'GarageQual_E', 'GarageCond_E', 'PavedDrive_E', 'Fence_E']\n"
     ]
    }
   ],
   "source": [
    "#kaggle\n",
    "def encode(frame, feature):\n",
    "    ordering = pd.DataFrame()\n",
    "    ordering['val'] = frame[feature].unique()\n",
    "    ordering.index = ordering.val\n",
    "    ordering['spmean'] = frame[[feature, 'SalePrice']].groupby(feature).mean()['SalePrice']\n",
    "    ordering = ordering.sort_values('spmean')\n",
    "    ordering['ordering'] = range(1, ordering.shape[0]+1)\n",
    "    ordering = ordering['ordering'].to_dict()\n",
    "    for cat, o in ordering.items():\n",
    "        frame.loc[frame[feature] == cat, feature+'_E'] = o\n",
    "        \n",
    "qual_encoded=[]\n",
    "for q in qual:\n",
    "    encode(housing_c, q)\n",
    "    qual_encoded.append(q+'_E')\n",
    "print(qual_encoded)"
   ]
  },
  {
   "cell_type": "code",
   "execution_count": 29,
   "metadata": {},
   "outputs": [],
   "source": [
    "housing_c.drop(qual, inplace=True,axis=1)"
   ]
  },
  {
   "cell_type": "code",
   "execution_count": 30,
   "metadata": {},
   "outputs": [
    {
     "data": {
      "text/plain": [
       "Index(['GrLivArea', 'SalePrice', 'LotFrontage', 'LotArea', 'OverallQual',\n",
       "       'OverallCond', 'YearBuilt', 'YearRemodAdd', 'MasVnrArea', 'BsmtFinSF1',\n",
       "       'BsmtFinSF2', 'BsmtUnfSF', 'TotalBsmtSF', 'LowQualFinSF',\n",
       "       'BedroomAbvGr', 'KitchenAbvGr', 'TotRmsAbvGrd', 'Fireplaces',\n",
       "       'GarageCars', 'GarageArea', 'WoodDeckSF', 'OpenPorchSF',\n",
       "       'EnclosedPorch', '3SsnPorch', 'ScreenPorch', 'PoolArea', 'Baths',\n",
       "       'MSZoning_E', 'LotShape_E', 'LandContour_E', 'LandSlope_E',\n",
       "       'RoofStyle_E', 'ExterQual_E', 'ExterCond_E', 'BsmtQual_E', 'BsmtCond_E',\n",
       "       'HeatingQC_E', 'CentralAir_E', 'Electrical_E', 'KitchenQual_E',\n",
       "       'Functional_E', 'FireplaceQu_E', 'GarageType_E', 'GarageFinish_E',\n",
       "       'GarageQual_E', 'GarageCond_E', 'PavedDrive_E', 'Fence_E'],\n",
       "      dtype='object')"
      ]
     },
     "execution_count": 30,
     "metadata": {},
     "output_type": "execute_result"
    }
   ],
   "source": [
    "housing_c.columns"
   ]
  },
  {
   "cell_type": "code",
   "execution_count": 32,
   "metadata": {},
   "outputs": [],
   "source": [
    "housing_c.to_csv('cleanedhousing.csv',index=False)"
   ]
  },
  {
   "cell_type": "code",
   "execution_count": 31,
   "metadata": {},
   "outputs": [
    {
     "data": {
      "text/plain": [
       "GrLivArea      0.0\n",
       "SalePrice      0.0\n",
       "LotFrontage    0.0\n",
       "LotArea        0.0\n",
       "OverallQual    0.0\n",
       "dtype: float64"
      ]
     },
     "execution_count": 31,
     "metadata": {},
     "output_type": "execute_result"
    }
   ],
   "source": [
    "housing_c.isna().mean().nlargest()"
   ]
  },
  {
   "cell_type": "code",
   "execution_count": null,
   "metadata": {},
   "outputs": [],
   "source": []
  }
 ],
 "metadata": {
  "kernelspec": {
   "display_name": "Python 3",
   "language": "python",
   "name": "python3"
  },
  "language_info": {
   "codemirror_mode": {
    "name": "ipython",
    "version": 3
   },
   "file_extension": ".py",
   "mimetype": "text/x-python",
   "name": "python",
   "nbconvert_exporter": "python",
   "pygments_lexer": "ipython3",
   "version": "3.8.3"
  }
 },
 "nbformat": 4,
 "nbformat_minor": 4
}
