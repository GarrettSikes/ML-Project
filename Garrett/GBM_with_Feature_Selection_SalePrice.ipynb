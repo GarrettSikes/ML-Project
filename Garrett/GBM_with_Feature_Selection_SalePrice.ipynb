{
 "cells": [
  {
   "cell_type": "code",
   "execution_count": 1,
   "metadata": {},
   "outputs": [],
   "source": [
    "import numpy as np\n",
    "import pandas as pd\n",
    "import seaborn as sns\n",
    "import matplotlib.pyplot as plt\n",
    "%matplotlib inline\n",
    "\n",
    "from sklearn.model_selection import train_test_split, GridSearchCV\n",
    "from sklearn import datasets, preprocessing, ensemble\n",
    "\n",
    "#import sklearn.ensemble\n",
    "\n",
    "plt.style.use('ggplot')"
   ]
  },
  {
   "cell_type": "code",
   "execution_count": 2,
   "metadata": {},
   "outputs": [],
   "source": [
    "housing = pd.read_csv('./data/Ames_HousePrice_withAddress_cleaned.csv')\n",
    "housing.drop(['Unnamed: 0'], axis=1, inplace=True)\n"
   ]
  },
  {
   "cell_type": "code",
   "execution_count": 3,
   "metadata": {},
   "outputs": [],
   "source": [
    "from sklearn.ensemble import GradientBoostingClassifier, GradientBoostingRegressor\n",
    "#dir(sklearn.ensemble)"
   ]
  },
  {
   "cell_type": "code",
   "execution_count": 4,
   "metadata": {},
   "outputs": [
    {
     "data": {
      "text/plain": [
       "<matplotlib.axes._subplots.AxesSubplot at 0x19963df06c8>"
      ]
     },
     "execution_count": 4,
     "metadata": {},
     "output_type": "execute_result"
    },
    {
     "data": {
      "image/png": "[encoded data removed]",
      "text/plain": [
       "<Figure size 432x288 with 1 Axes>"
      ]
     },
     "metadata": {},
     "output_type": "display_data"
    }
   ],
   "source": [
    "housing.plot.scatter(x='GrLivArea', y='SalePrice')"
   ]
  },
  {
   "cell_type": "code",
   "execution_count": 5,
   "metadata": {},
   "outputs": [],
   "source": [
    "housing = housing[(housing['GrLivArea'] <= 4500)]"
   ]
  },
  {
   "cell_type": "code",
   "execution_count": 6,
   "metadata": {},
   "outputs": [],
   "source": [
    "#sns.pairplot(housing)"
   ]
  },
  {
   "cell_type": "code",
   "execution_count": 7,
   "metadata": {},
   "outputs": [
    {
     "data": {
      "text/plain": [
       "Index(['GrLivArea', 'SalePrice', 'MSZoning', 'LotFrontage', 'LotArea',\n",
       "       'LotShape', 'LandContour', 'LandSlope', 'OverallQual', 'OverallCond',\n",
       "       'YearBuilt', 'YearRemodAdd', 'RoofStyle', 'MasVnrArea', 'ExterQual',\n",
       "       'ExterCond', 'BsmtQual', 'BsmtCond', 'BsmtFinSF1', 'BsmtFinSF2',\n",
       "       'BsmtUnfSF', 'TotalBsmtSF', 'HeatingQC', 'CentralAir', 'Electrical',\n",
       "       'LowQualFinSF', 'BedroomAbvGr', 'KitchenAbvGr', 'KitchenQual',\n",
       "       'TotRmsAbvGrd', 'Functional', 'Fireplaces', 'FireplaceQu', 'GarageType',\n",
       "       'GarageFinish', 'GarageCars', 'GarageArea', 'GarageQual', 'GarageCond',\n",
       "       'PavedDrive', 'WoodDeckSF', 'OpenPorchSF', 'EnclosedPorch', '3SsnPorch',\n",
       "       'ScreenPorch', 'PoolArea', 'Fence', 'GeoRefNo', 'Prop_Addr', 'lat',\n",
       "       'long', 'Baths', 'Class_1.5story', 'Class_1story_dev', 'Class_2story',\n",
       "       'Class_2story_dev', 'Class_duplex', 'Class_split', 'Lot_Corner',\n",
       "       'Lot_CulDSac', 'Lot_FR', 'Foundation_Concrete', 'Foundation_Other',\n",
       "       'price_per_sqf'],\n",
       "      dtype='object')"
      ]
     },
     "execution_count": 7,
     "metadata": {},
     "output_type": "execute_result"
    }
   ],
   "source": [
    "housing.columns"
   ]
  },
  {
   "cell_type": "code",
   "execution_count": 8,
   "metadata": {},
   "outputs": [],
   "source": [
    "X = housing[['GrLivArea', 'LotFrontage', 'LotArea', 'OverallQual', 'OverallCond',\n",
    "            'YearBuilt', 'ExterQual', 'BsmtFinSF1', 'ScreenPorch',\n",
    "            'TotalBsmtSF', 'KitchenQual', 'Fireplaces', 'GarageArea',\n",
    "            'WoodDeckSF', 'MasVnrArea']]\n",
    "\n",
    "y = np.log(housing['SalePrice'])"
   ]
  },
  {
   "cell_type": "code",
   "execution_count": 9,
   "metadata": {},
   "outputs": [
    {
     "data": {
      "text/plain": [
       "GrLivArea      0\n",
       "LotFrontage    0\n",
       "LotArea        0\n",
       "OverallQual    0\n",
       "OverallCond    0\n",
       "YearBuilt      0\n",
       "ExterQual      0\n",
       "BsmtFinSF1     1\n",
       "ScreenPorch    0\n",
       "TotalBsmtSF    1\n",
       "KitchenQual    0\n",
       "Fireplaces     0\n",
       "GarageArea     1\n",
       "WoodDeckSF     0\n",
       "MasVnrArea     0\n",
       "dtype: int64"
      ]
     },
     "execution_count": 9,
     "metadata": {},
     "output_type": "execute_result"
    }
   ],
   "source": [
    "X.isna().sum()"
   ]
  },
  {
   "cell_type": "code",
   "execution_count": 10,
   "metadata": {},
   "outputs": [],
   "source": [
    "X = X.fillna(0)"
   ]
  },
  {
   "cell_type": "code",
   "execution_count": 11,
   "metadata": {},
   "outputs": [
    {
     "data": {
      "text/plain": [
       "0"
      ]
     },
     "execution_count": 11,
     "metadata": {},
     "output_type": "execute_result"
    }
   ],
   "source": [
    "y.isna().sum()"
   ]
  },
  {
   "cell_type": "code",
   "execution_count": null,
   "metadata": {},
   "outputs": [],
   "source": []
  },
  {
   "cell_type": "code",
   "execution_count": 12,
   "metadata": {},
   "outputs": [],
   "source": [
    "X_train, X_test, y_train, y_test = train_test_split(X, y, test_size=0.2)"
   ]
  },
  {
   "cell_type": "code",
   "execution_count": 13,
   "metadata": {},
   "outputs": [],
   "source": [
    "gbm = GradientBoostingRegressor()"
   ]
  },
  {
   "cell_type": "code",
   "execution_count": 14,
   "metadata": {},
   "outputs": [],
   "source": [
    "# gbm.fit(X_train,y_train)\n",
    "# print('-'*50)\n",
    "# print(\"The train set R^2 is %.3f\" %(gbm.score(X_train, y_train)))\n",
    "# print(\"The test set R^2 is %.3f\" %(gbm.score(X_test, y_test)))"
   ]
  },
  {
   "cell_type": "code",
   "execution_count": 15,
   "metadata": {},
   "outputs": [],
   "source": [
    "# model = gbm.fit(X_train, y_train)\n",
    "# y_pred = model.predict(X_test)"
   ]
  },
  {
   "cell_type": "code",
   "execution_count": 16,
   "metadata": {},
   "outputs": [],
   "source": [
    "# from sklearn.metrics import r2_score\n",
    "# r2_score(y_pred, y_test)"
   ]
  },
  {
   "cell_type": "markdown",
   "metadata": {},
   "source": [
    "# Model Parameters\n"
   ]
  },
  {
   "cell_type": "code",
   "execution_count": 17,
   "metadata": {
    "scrolled": true
   },
   "outputs": [
    {
     "name": "stdout",
     "output_type": "stream",
     "text": [
      "      Iter       Train Loss   Remaining Time \n",
      "         1           0.1259            3.02s\n",
      "         2           0.1096            2.51s\n",
      "         3           0.0960            2.66s\n",
      "         4           0.0847            2.74s\n",
      "         5           0.0751            2.79s\n",
      "         6           0.0664            2.82s\n",
      "         7           0.0590            2.70s\n",
      "         8           0.0528            2.73s\n",
      "         9           0.0475            2.75s\n",
      "        10           0.0429            2.67s\n",
      "        20           0.0200            2.60s\n",
      "        30           0.0131            2.55s\n",
      "        40           0.0103            2.54s\n",
      "        50           0.0090            2.51s\n",
      "        60           0.0082            2.48s\n",
      "        70           0.0077            2.44s\n",
      "        80           0.0074            2.41s\n",
      "        90           0.0072            2.41s\n",
      "       100           0.0070            2.38s\n",
      "       200           0.0053            2.09s\n",
      "       300           0.0043            1.82s\n",
      "       400           0.0036            1.56s\n",
      "       500           0.0030            1.30s\n",
      "       600           0.0025            1.04s\n",
      "       700           0.0021            0.78s\n",
      "       800           0.0019            0.52s\n",
      "       900           0.0016            0.26s\n",
      "      1000           0.0014            0.00s\n",
      "--------------------------------------------------\n",
      "The train set R^2 is 0.990\n",
      "The test set R^2 is 0.902\n"
     ]
    }
   ],
   "source": [
    "gbm.set_params(n_estimators=1000, warm_start=False, verbose = 1)\n",
    "gbm.fit(X_train,y_train)\n",
    "print('-'*50)\n",
    "print(\"The train set R^2 is %.3f\" %(gbm.score(X_train, y_train)))\n",
    "print(\"The test set R^2 is %.3f\" %(gbm.score(X_test, y_test)))"
   ]
  },
  {
   "cell_type": "code",
   "execution_count": 18,
   "metadata": {},
   "outputs": [],
   "source": [
    "from sklearn.metrics import r2_score\n",
    "\n",
    "gen_train = gbm.staged_predict(X_train)\n",
    "gen_test  = gbm.staged_predict(X_test)\n",
    "\n",
    "trainR2 = []\n",
    "testR2  = []\n",
    "steps   = range(1,1000)\n",
    "for n in steps:\n",
    "    y_pred_train = next(gen_train)\n",
    "    y_pred_test  = next(gen_test)\n",
    "    trainR2.append(r2_score(y_pred_train, y_train))\n",
    "    testR2.append(r2_score(y_pred_test, y_test))"
   ]
  },
  {
   "cell_type": "code",
   "execution_count": 19,
   "metadata": {},
   "outputs": [
    {
     "data": {
      "text/plain": [
       "Text(0, 0.5, '$R^2$')"
      ]
     },
     "execution_count": 19,
     "metadata": {},
     "output_type": "execute_result"
    },
    {
     "data": {
      "image/png": "[encoded data removed]",
      "text/plain": [
       "<Figure size 432x288 with 1 Axes>"
      ]
     },
     "metadata": {},
     "output_type": "display_data"
    }
   ],
   "source": [
    "start = 10\n",
    "end   = 1000\n",
    "plt.plot(steps[start:end], trainR2[start:end],label='train')\n",
    "plt.plot(steps[start:end], testR2[start:end],label='test')\n",
    "plt.xlabel('n_estimators')\n",
    "plt.ylabel(r'$R^2$')"
   ]
  },
  {
   "cell_type": "code",
   "execution_count": 20,
   "metadata": {},
   "outputs": [],
   "source": [
    "# LR = {'n_estimators':[70, 75, 80, 90, 100, 125, 150, 250, 300], \\\n",
    "#       'max_depth':[1,2,3,4,5], 'max_features': [1, 2, 3, 4, 5]}\n",
    "\n",
    "# tuning = GridSearchCV(estimator = GradientBoostingRegressor(),\n",
    "#                      param_grid = LR, scoring = 'r2')\n",
    "\n",
    "# tuning.fit(X_train, y_train)\n",
    "# tuning.best_params_, tuning.best_score_"
   ]
  },
  {
   "cell_type": "code",
   "execution_count": 21,
   "metadata": {},
   "outputs": [
    {
     "name": "stdout",
     "output_type": "stream",
     "text": [
      "      Iter       Train Loss      OOB Improve   Remaining Time \n",
      "         1           0.1331           0.0123            0.15s\n",
      "         2           0.1145           0.0139            0.15s\n",
      "         3           0.1119           0.0098            0.15s\n",
      "         4           0.0989           0.0092            0.15s\n",
      "         5           0.0882           0.0086            0.15s\n",
      "         6           0.0828           0.0079            0.12s\n",
      "         7           0.0715           0.0086            0.12s\n",
      "         8           0.0659           0.0064            0.12s\n",
      "         9           0.0636           0.0055            0.13s\n",
      "        10           0.0588           0.0042            0.13s\n",
      "        20           0.0293           0.0014            0.10s\n",
      "        30           0.0204           0.0006            0.09s\n",
      "        40           0.0165           0.0004            0.08s\n",
      "        50           0.0154           0.0001            0.07s\n",
      "        60           0.0128           0.0001            0.07s\n",
      "        70           0.0123           0.0000            0.06s\n",
      "        80           0.0122           0.0000            0.05s\n",
      "        90           0.0112           0.0000            0.04s\n",
      "       100           0.0106           0.0000            0.04s\n",
      "--------------------------------------------------\n",
      "The train set R^2 is 0.934\n",
      "The test set R^2 is 0.901\n"
     ]
    }
   ],
   "source": [
    "gbm.set_params(learning_rate=0.1, n_estimators=150, max_depth=2, max_features=4, subsample=.8, warm_start=False)\n",
    "gbm.fit(X_train, y_train)\n",
    "print('-'*50)\n",
    "print(\"The train set R^2 is %.3f\" %(gbm.score(X_train, y_train)))\n",
    "print(\"The test set R^2 is %.3f\" %(gbm.score(X_test, y_test)))"
   ]
  },
  {
   "cell_type": "code",
   "execution_count": 22,
   "metadata": {},
   "outputs": [
    {
     "data": {
      "text/plain": [
       "Text(0, 0.5, '$R^2$')"
      ]
     },
     "execution_count": 22,
     "metadata": {},
     "output_type": "execute_result"
    },
    {
     "data": {
      "image/png": "[encoded data removed]",
      "text/plain": [
       "<Figure size 432x288 with 1 Axes>"
      ]
     },
     "metadata": {},
     "output_type": "display_data"
    }
   ],
   "source": [
    "start = 30\n",
    "end   = 150\n",
    "plt.plot(steps[start:end], trainR2[start:end],label='train')\n",
    "plt.plot(steps[start:end], testR2[start:end],label='test')\n",
    "plt.xlabel('n_estimators')\n",
    "plt.ylabel(r'$R^2$')"
   ]
  },
  {
   "cell_type": "code",
   "execution_count": 23,
   "metadata": {},
   "outputs": [
    {
     "name": "stdout",
     "output_type": "stream",
     "text": [
      "      Iter       Train Loss      OOB Improve   Remaining Time \n",
      "         1           0.1402           0.0094            0.10s\n",
      "         2           0.1225           0.0128            0.10s\n",
      "         3           0.1123           0.0111            0.10s\n",
      "         4           0.1029           0.0092            0.07s\n",
      "         5           0.0958           0.0070            0.08s\n",
      "         6           0.0919           0.0058            0.08s\n",
      "         7           0.0829           0.0058            0.08s\n",
      "         8           0.0786           0.0058            0.07s\n",
      "         9           0.0702           0.0046            0.07s\n",
      "        10           0.0674           0.0048            0.07s\n",
      "        20           0.0388           0.0015            0.06s\n",
      "        30           0.0268           0.0011            0.04s\n",
      "        40           0.0209           0.0003            0.04s\n",
      "        50           0.0183           0.0001            0.03s\n",
      "        60           0.0156           0.0001            0.02s\n",
      "        70           0.0147           0.0000            0.02s\n",
      "        80           0.0137          -0.0000            0.01s\n",
      "        90           0.0131           0.0000            0.01s\n",
      "       100           0.0127           0.0000            0.00s\n",
      "--------------------------------------------------\n",
      "The train set R^2 is 0.914\n",
      "The test set R^2 is 0.888\n"
     ]
    }
   ],
   "source": [
    "gbm.set_params(learning_rate=0.09, n_estimators=100, max_depth=2, max_features=2, subsample=.8, warm_start=False)\n",
    "gbm.fit(X_train, y_train)\n",
    "print('-'*50)\n",
    "print(\"The train set R^2 is %.3f\" %(gbm.score(X_train, y_train)))\n",
    "print(\"The test set R^2 is %.3f\" %(gbm.score(X_test, y_test)))"
   ]
  },
  {
   "cell_type": "code",
   "execution_count": 24,
   "metadata": {},
   "outputs": [
    {
     "name": "stdout",
     "output_type": "stream",
     "text": [
      "      Iter       Train Loss      OOB Improve   Remaining Time \n",
      "         1           0.1399           0.0092            0.10s\n",
      "         2           0.1186           0.0151            0.10s\n",
      "         3           0.1115           0.0104            0.10s\n",
      "         4           0.1038           0.0093            0.10s\n",
      "         5           0.0985           0.0070            0.10s\n",
      "         6           0.0900           0.0076            0.08s\n",
      "         7           0.0819           0.0078            0.08s\n",
      "         8           0.0791           0.0057            0.08s\n",
      "         9           0.0750           0.0042            0.08s\n",
      "        10           0.0691           0.0053            0.08s\n",
      "        20           0.0410           0.0015            0.06s\n",
      "        30           0.0261           0.0014            0.05s\n",
      "        40           0.0212           0.0006            0.04s\n",
      "        50           0.0182           0.0002            0.03s\n",
      "        60           0.0167           0.0001            0.03s\n",
      "        70           0.0157           0.0000            0.02s\n",
      "        80           0.0147           0.0001            0.01s\n",
      "        90           0.0148           0.0000            0.01s\n",
      "       100           0.0139           0.0000            0.00s\n"
     ]
    },
    {
     "data": {
      "text/plain": [
       "GradientBoostingRegressor(alpha=0.9, ccp_alpha=0.0, criterion='friedman_mse',\n",
       "                          init=None, learning_rate=0.09, loss='ls', max_depth=2,\n",
       "                          max_features=2, max_leaf_nodes=None,\n",
       "                          min_impurity_decrease=0.0, min_impurity_split=None,\n",
       "                          min_samples_leaf=1, min_samples_split=2,\n",
       "                          min_weight_fraction_leaf=0.0, n_estimators=100,\n",
       "                          n_iter_no_change=None, presort='deprecated',\n",
       "                          random_state=None, subsample=0.8, tol=0.0001,\n",
       "                          validation_fraction=0.1, verbose=1, warm_start=False)"
      ]
     },
     "execution_count": 24,
     "metadata": {},
     "output_type": "execute_result"
    }
   ],
   "source": [
    "gbm.fit(X, y)"
   ]
  },
  {
   "cell_type": "code",
   "execution_count": 25,
   "metadata": {},
   "outputs": [
    {
     "data": {
      "text/plain": [
       "0.9079023960389085"
      ]
     },
     "execution_count": 25,
     "metadata": {},
     "output_type": "execute_result"
    }
   ],
   "source": [
    "gbm.score(X, y)"
   ]
  },
  {
   "cell_type": "code",
   "execution_count": 26,
   "metadata": {},
   "outputs": [],
   "source": [
    "importance = sorted(list(zip(X.columns, list(gbm.feature_importances_))), key=lambda t:t[1], reverse=True)"
   ]
  },
  {
   "cell_type": "code",
   "execution_count": 27,
   "metadata": {},
   "outputs": [
    {
     "data": {
      "text/plain": [
       "Text(0.5, 1.0, 'feature importance of a gbm classifier')"
      ]
     },
     "execution_count": 27,
     "metadata": {},
     "output_type": "execute_result"
    },
    {
     "data": {
      "image/png": "[encoded data removed]",
      "text/plain": [
       "<Figure size 432x288 with 1 Axes>"
      ]
     },
     "metadata": {},
     "output_type": "display_data"
    }
   ],
   "source": [
    "a, b = zip(*importance)\n",
    "importance_score = pd.DataFrame({'feature':a, 'score':b})\n",
    "importance_score.plot.bar(x='feature', y='score', legend=None)\n",
    "plt.title('feature importance of a gbm classifier')"
   ]
  },
  {
   "cell_type": "markdown",
   "metadata": {},
   "source": [
    "# Normalize Data "
   ]
  },
  {
   "cell_type": "code",
   "execution_count": 28,
   "metadata": {},
   "outputs": [],
   "source": [
    "data = X.copy()"
   ]
  },
  {
   "cell_type": "code",
   "execution_count": 29,
   "metadata": {},
   "outputs": [
    {
     "name": "stdout",
     "output_type": "stream",
     "text": [
      "L1-normalized data : \n",
      " [[0.06923886 0.         0.63819461 ... 0.03227372 0.         0.        ]\n",
      " [0.11226455 0.00449486 0.45323202 ... 0.02846747 0.         0.01594606]\n",
      " [0.09085958 0.00544613 0.550059   ... 0.01960606 0.0139784  0.        ]\n",
      " ...\n",
      " [0.1604681  0.00657262 0.50256492 ... 0.06981404 0.         0.        ]\n",
      " [0.12009388 0.         0.57543356 ... 0.03168601 0.01258313 0.00938845]\n",
      " [0.12333011 0.00516296 0.616586   ... 0.0303969  0.01174572 0.00806712]]\n",
      "\n",
      "L2-normalized data : \n",
      " [[0.10401902 0.         0.95877348 ... 0.0484855  0.         0.        ]\n",
      " [0.21205212 0.00849017 0.85609221 ... 0.05377108 0.         0.03011989]\n",
      " [0.15306392 0.00917466 0.92664072 ... 0.03302878 0.0235483  0.        ]\n",
      " ...\n",
      " [0.28609458 0.01171816 0.89601051 ... 0.12446972 0.         0.        ]\n",
      " [0.19718527 0.         0.94481933 ... 0.05202608 0.02066056 0.01541514]\n",
      " [0.19116871 0.00800288 0.95574352 ... 0.04711694 0.01820654 0.01250449]]\n"
     ]
    }
   ],
   "source": [
    "#data_l1 = preprocessing.normalize(data, norm='l1') \n",
    "data_l2 = preprocessing.normalize(data, norm='l2')\n",
    "\n",
    "print('L1-normalized data : \\n' , data_l1)\n",
    "print('\\nL2-normalized data : \\n' , data_l2)"
   ]
  },
  {
   "cell_type": "code",
   "execution_count": 30,
   "metadata": {},
   "outputs": [],
   "source": [
    "gbm_norm = GradientBoostingRegressor()"
   ]
  },
  {
   "cell_type": "code",
   "execution_count": 31,
   "metadata": {},
   "outputs": [],
   "source": [
    "X_norm_train, X_norm_test, y_norm_train, y_norm_test = train_test_split(data_l2, y, test_size=0.2)"
   ]
  },
  {
   "cell_type": "code",
   "execution_count": 46,
   "metadata": {},
   "outputs": [
    {
     "name": "stdout",
     "output_type": "stream",
     "text": [
      "      Iter       Train Loss   Remaining Time \n",
      "         1           0.1363            3.99s\n",
      "         2           0.1255            4.51s\n",
      "         3           0.1166            4.33s\n",
      "         4           0.1090            4.48s\n",
      "         5           0.1016            4.38s\n",
      "         6           0.0959            4.48s\n",
      "         7           0.0912            4.54s\n",
      "         8           0.0865            4.47s\n",
      "         9           0.0823            4.51s\n",
      "        10           0.0785            4.45s\n",
      "        20           0.0490            4.36s\n",
      "        30           0.0351            4.30s\n",
      "        40           0.0279            4.25s\n",
      "        50           0.0240            4.20s\n",
      "        60           0.0208            4.15s\n",
      "        70           0.0186            4.09s\n",
      "        80           0.0170            4.05s\n",
      "        90           0.0156            4.00s\n",
      "       100           0.0144            3.96s\n",
      "       200           0.0091            3.52s\n",
      "       300           0.0067            3.08s\n",
      "       400           0.0053            2.64s\n",
      "       500           0.0042            2.21s\n",
      "       600           0.0034            1.76s\n",
      "       700           0.0027            1.32s\n",
      "       800           0.0022            0.88s\n",
      "       900           0.0018            0.44s\n",
      "      1000           0.0015            0.00s\n",
      "--------------------------------------------------\n",
      "The train set R^2 is 0.990\n",
      "The test set R^2 is 0.839\n"
     ]
    }
   ],
   "source": [
    "gbm_norm.set_params(n_estimators=1000, warm_start=False, verbose = 1)\n",
    "gbm_norm.fit(X_norm_train, y_norm_train)\n",
    "print('-'*50)\n",
    "print(\"The train set R^2 is %.3f\" %(gbm_norm.score(X_norm_train, y_norm_train)))\n",
    "print(\"The test set R^2 is %.3f\" %(gbm_norm.score(X_norm_test, y_norm_test)))"
   ]
  },
  {
   "cell_type": "code",
   "execution_count": 47,
   "metadata": {},
   "outputs": [],
   "source": [
    "gen_norm_train = gbm_norm.staged_predict(X_train)\n",
    "gen_norm_test  = gbm_norm.staged_predict(X_test)\n",
    "\n",
    "trainR2 = []\n",
    "testR2  = []\n",
    "steps   = range(1,1000)\n",
    "for n in steps:\n",
    "    y_norm_pred_train = next(gen_norm_train)\n",
    "    y_norm_pred_test  = next(gen_norm_test)\n",
    "    trainR2.append(r2_score(y_norm_pred_train, y_norm_train))\n",
    "    testR2.append(r2_score(y_norm_pred_test, y_norm_test))"
   ]
  },
  {
   "cell_type": "code",
   "execution_count": 49,
   "metadata": {},
   "outputs": [
    {
     "data": {
      "text/plain": [
       "Text(0, 0.5, '$R^2$')"
      ]
     },
     "execution_count": 49,
     "metadata": {},
     "output_type": "execute_result"
    },
    {
     "data": {
      "image/png": "[encoded data removed]",
      "text/plain": [
       "<Figure size 432x288 with 1 Axes>"
      ]
     },
     "metadata": {},
     "output_type": "display_data"
    }
   ],
   "source": [
    "start = 50\n",
    "end   = 200\n",
    "plt.plot(steps[start:end], trainR2[start:end],label='train')\n",
    "plt.plot(steps[start:end], testR2[start:end],label='test')\n",
    "plt.xlabel('n_estimators')\n",
    "plt.ylabel(r'$R^2$')\n"
   ]
  },
  {
   "cell_type": "code",
   "execution_count": 69,
   "metadata": {},
   "outputs": [
    {
     "name": "stdout",
     "output_type": "stream",
     "text": [
      "      Iter       Train Loss      OOB Improve   Remaining Time \n",
      "         1           0.1319           0.0156            0.00s\n",
      "         2           0.1161           0.0114            0.06s\n",
      "         3           0.1062           0.0110            0.08s\n",
      "         4           0.0934           0.0103            0.09s\n",
      "         5           0.0866           0.0094            0.10s\n",
      "         6           0.0820           0.0061            0.08s\n",
      "         7           0.0693           0.0069            0.08s\n",
      "         8           0.0671           0.0055            0.09s\n",
      "         9           0.0646           0.0040            0.09s\n",
      "        10           0.0585           0.0049            0.09s\n",
      "        20           0.0319           0.0014            0.08s\n",
      "        30           0.0233           0.0006            0.07s\n",
      "        40           0.0168           0.0002            0.06s\n",
      "        50           0.0156           0.0002            0.05s\n",
      "        60           0.0129           0.0000            0.05s\n",
      "        70           0.0131           0.0000            0.04s\n",
      "        80           0.0120           0.0000            0.03s\n",
      "        90           0.0109          -0.0000            0.02s\n",
      "       100           0.0112           0.0000            0.02s\n",
      "--------------------------------------------------\n",
      "The train set R^2 is 0.928\n",
      "The test set R^2 is 0.895\n"
     ]
    }
   ],
   "source": [
    "gbm_norm.set_params(learning_rate=0.1, n_estimators=125, max_depth=2, max_features=3, subsample=.8, warm_start=False)\n",
    "gbm_norm.fit(X_train, y_train)\n",
    "print('-'*50)\n",
    "print(\"The train set R^2 is %.3f\" %(gbm_norm.score(X_train, y_train)))\n",
    "print(\"The test set R^2 is %.3f\" %(gbm_norm.score(X_test, y_test)))"
   ]
  },
  {
   "cell_type": "code",
   "execution_count": 70,
   "metadata": {},
   "outputs": [
    {
     "name": "stdout",
     "output_type": "stream",
     "text": [
      "      Iter       Train Loss      OOB Improve   Remaining Time \n",
      "         1           0.1327           0.0125            0.25s\n",
      "         2           0.1172           0.0139            0.19s\n",
      "         3           0.1080           0.0105            0.16s\n",
      "         4           0.0976           0.0113            0.15s\n",
      "         5           0.0918           0.0082            0.14s\n",
      "         6           0.0852           0.0081            0.14s\n",
      "         7           0.0782           0.0058            0.13s\n",
      "         8           0.0682           0.0064            0.13s\n",
      "         9           0.0659           0.0054            0.13s\n",
      "        10           0.0613           0.0043            0.13s\n",
      "        20           0.0348           0.0016            0.10s\n",
      "        30           0.0222           0.0008            0.09s\n",
      "        40           0.0177           0.0003            0.07s\n",
      "        50           0.0157           0.0001            0.06s\n",
      "        60           0.0141           0.0001            0.05s\n",
      "        70           0.0127           0.0001            0.05s\n",
      "        80           0.0132           0.0000            0.04s\n",
      "        90           0.0123           0.0000            0.03s\n",
      "       100           0.0115           0.0001            0.02s\n",
      "The R^2 is 0.925\n"
     ]
    }
   ],
   "source": [
    "gbm_norm.fit(X, y)\n",
    "print(\"The R^2 is %.3f\" %(gbm_norm.score(X, y)))"
   ]
  },
  {
   "cell_type": "code",
   "execution_count": null,
   "metadata": {},
   "outputs": [],
   "source": []
  }
 ],
 "metadata": {
  "kernelspec": {
   "display_name": "Python 3",
   "language": "python",
   "name": "python3"
  },
  "language_info": {
   "codemirror_mode": {
    "name": "ipython",
    "version": 3
   },
   "file_extension": ".py",
   "mimetype": "text/x-python",
   "name": "python",
   "nbconvert_exporter": "python",
   "pygments_lexer": "ipython3",
   "version": "3.7.6"
  }
 },
 "nbformat": 4,
 "nbformat_minor": 4
}
